{
 "cells": [
  {
   "cell_type": "code",
   "execution_count": 87,
   "id": "f29c12c3",
   "metadata": {},
   "outputs": [],
   "source": [
    "import pandas as pd"
   ]
  },
  {
   "cell_type": "code",
   "execution_count": 88,
   "id": "0ee2749f",
   "metadata": {},
   "outputs": [],
   "source": [
    "## types of pandas data structure :\n",
    "\n",
    "# 1 -  series\n",
    "# 2 -  dataframe"
   ]
  },
  {
   "cell_type": "code",
   "execution_count": 89,
   "id": "ee26a34e",
   "metadata": {},
   "outputs": [],
   "source": [
    "## series :\n",
    "# series having it's by befault index (access label)"
   ]
  },
  {
   "cell_type": "code",
   "execution_count": 90,
   "id": "86148e22",
   "metadata": {},
   "outputs": [],
   "source": [
    "s = pd.Series(['mira' , 'priya' , 'dhara' , 'disha'])"
   ]
  },
  {
   "cell_type": "code",
   "execution_count": 91,
   "id": "86829fc4",
   "metadata": {},
   "outputs": [
    {
     "data": {
      "text/plain": [
       "0     mira\n",
       "1    priya\n",
       "2    dhara\n",
       "3    disha\n",
       "dtype: object"
      ]
     },
     "execution_count": 91,
     "metadata": {},
     "output_type": "execute_result"
    }
   ],
   "source": [
    "s"
   ]
  },
  {
   "cell_type": "code",
   "execution_count": 92,
   "id": "6d2868e9",
   "metadata": {},
   "outputs": [
    {
     "data": {
      "text/plain": [
       "pandas.core.series.Series"
      ]
     },
     "execution_count": 92,
     "metadata": {},
     "output_type": "execute_result"
    }
   ],
   "source": [
    "type(s)"
   ]
  },
  {
   "cell_type": "code",
   "execution_count": 93,
   "id": "6a93d8a7",
   "metadata": {},
   "outputs": [
    {
     "data": {
      "text/plain": [
       "4"
      ]
     },
     "execution_count": 93,
     "metadata": {},
     "output_type": "execute_result"
    }
   ],
   "source": [
    "len(s)"
   ]
  },
  {
   "cell_type": "code",
   "execution_count": 94,
   "id": "f416ff95",
   "metadata": {},
   "outputs": [],
   "source": [
    " # we can also define our own index "
   ]
  },
  {
   "cell_type": "code",
   "execution_count": 95,
   "id": "42db967f",
   "metadata": {},
   "outputs": [],
   "source": [
    "s = pd.Series(['mira' , 'priya' , 'dhara' , 'disha'] , index = ['a' , 'b' , 'c' , 'd'])"
   ]
  },
  {
   "cell_type": "code",
   "execution_count": 96,
   "id": "0c96b890",
   "metadata": {},
   "outputs": [
    {
     "data": {
      "text/plain": [
       "a     mira\n",
       "b    priya\n",
       "c    dhara\n",
       "d    disha\n",
       "dtype: object"
      ]
     },
     "execution_count": 96,
     "metadata": {},
     "output_type": "execute_result"
    }
   ],
   "source": [
    "s"
   ]
  },
  {
   "cell_type": "code",
   "execution_count": 97,
   "id": "96db1f8e",
   "metadata": {},
   "outputs": [],
   "source": [
    "## creating series from list data structure :\n",
    "country = ['Ind' , 'Aus' , 'NZ' ,'US']    # series index\n",
    "cost    = [10000 ,20000 ,30000 , 40000]   # series data "
   ]
  },
  {
   "cell_type": "code",
   "execution_count": 98,
   "id": "32eec0bc",
   "metadata": {},
   "outputs": [
    {
     "data": {
      "text/plain": [
       "Ind    10000\n",
       "Aus    20000\n",
       "NZ     30000\n",
       "US     40000\n",
       "dtype: int64"
      ]
     },
     "execution_count": 98,
     "metadata": {},
     "output_type": "execute_result"
    }
   ],
   "source": [
    "pd.Series(cost , index = country)"
   ]
  },
  {
   "cell_type": "code",
   "execution_count": 99,
   "id": "c75a38fe",
   "metadata": {},
   "outputs": [],
   "source": [
    "## creating series from tuple data structure :\n",
    "country = ('Ind' , 'Aus' , 'NZ' ,'US')   # series index\n",
    "cost    = (10000 ,20000 ,30000 , 40000)   # series data "
   ]
  },
  {
   "cell_type": "code",
   "execution_count": 100,
   "id": "82fc6c35",
   "metadata": {},
   "outputs": [
    {
     "data": {
      "text/plain": [
       "Ind    10000\n",
       "Aus    20000\n",
       "NZ     30000\n",
       "US     40000\n",
       "dtype: int64"
      ]
     },
     "execution_count": 100,
     "metadata": {},
     "output_type": "execute_result"
    }
   ],
   "source": [
    "pd.Series(cost , index = country)"
   ]
  },
  {
   "cell_type": "code",
   "execution_count": 101,
   "id": "8a83eb89",
   "metadata": {},
   "outputs": [],
   "source": [
    "## creating series from dictonary data structure :\n",
    "data = {'Ind' : 10000 , 'Aus' : 20000 , 'NZ' : 30000 ,'US' : 40000}"
   ]
  },
  {
   "cell_type": "code",
   "execution_count": 102,
   "id": "61a447bf",
   "metadata": {},
   "outputs": [
    {
     "data": {
      "text/plain": [
       "Ind    10000\n",
       "Aus    20000\n",
       "NZ     30000\n",
       "US     40000\n",
       "dtype: int64"
      ]
     },
     "execution_count": 102,
     "metadata": {},
     "output_type": "execute_result"
    }
   ],
   "source": [
    "pd.Series(data)"
   ]
  },
  {
   "cell_type": "code",
   "execution_count": null,
   "id": "31f23fea",
   "metadata": {},
   "outputs": [],
   "source": []
  },
  {
   "cell_type": "code",
   "execution_count": 103,
   "id": "05299206",
   "metadata": {},
   "outputs": [],
   "source": [
    "## dataframe :"
   ]
  },
  {
   "cell_type": "code",
   "execution_count": 104,
   "id": "9bbb270a",
   "metadata": {},
   "outputs": [],
   "source": [
    "# creating dataframe from the dictonary :\n",
    "Employeedata = {\n",
    "    'id' : [101 , 102 , 103] ,\n",
    "    'name' : ['mira' , 'isha' , 'riya'] , \n",
    "    'age' : [32 , 45 , 48] , \n",
    "    'city' : ['Goa' , 'Agra' , 'Delhi']\n",
    "}"
   ]
  },
  {
   "cell_type": "code",
   "execution_count": 105,
   "id": "5b3794cb",
   "metadata": {},
   "outputs": [],
   "source": [
    "# dataframe having it's by befault index (access label)\n",
    "df = pd.DataFrame(Employeedata)"
   ]
  },
  {
   "cell_type": "code",
   "execution_count": 106,
   "id": "32eb64da",
   "metadata": {},
   "outputs": [
    {
     "data": {
      "text/html": [
       "<div>\n",
       "<style scoped>\n",
       "    .dataframe tbody tr th:only-of-type {\n",
       "        vertical-align: middle;\n",
       "    }\n",
       "\n",
       "    .dataframe tbody tr th {\n",
       "        vertical-align: top;\n",
       "    }\n",
       "\n",
       "    .dataframe thead th {\n",
       "        text-align: right;\n",
       "    }\n",
       "</style>\n",
       "<table border=\"1\" class=\"dataframe\">\n",
       "  <thead>\n",
       "    <tr style=\"text-align: right;\">\n",
       "      <th></th>\n",
       "      <th>id</th>\n",
       "      <th>name</th>\n",
       "      <th>age</th>\n",
       "      <th>city</th>\n",
       "    </tr>\n",
       "  </thead>\n",
       "  <tbody>\n",
       "    <tr>\n",
       "      <th>0</th>\n",
       "      <td>101</td>\n",
       "      <td>mira</td>\n",
       "      <td>32</td>\n",
       "      <td>Goa</td>\n",
       "    </tr>\n",
       "    <tr>\n",
       "      <th>1</th>\n",
       "      <td>102</td>\n",
       "      <td>isha</td>\n",
       "      <td>45</td>\n",
       "      <td>Agra</td>\n",
       "    </tr>\n",
       "    <tr>\n",
       "      <th>2</th>\n",
       "      <td>103</td>\n",
       "      <td>riya</td>\n",
       "      <td>48</td>\n",
       "      <td>Delhi</td>\n",
       "    </tr>\n",
       "  </tbody>\n",
       "</table>\n",
       "</div>"
      ],
      "text/plain": [
       "    id  name  age   city\n",
       "0  101  mira   32    Goa\n",
       "1  102  isha   45   Agra\n",
       "2  103  riya   48  Delhi"
      ]
     },
     "execution_count": 106,
     "metadata": {},
     "output_type": "execute_result"
    }
   ],
   "source": [
    "df"
   ]
  },
  {
   "cell_type": "code",
   "execution_count": 107,
   "id": "dbc5718f",
   "metadata": {},
   "outputs": [],
   "source": [
    "df = pd.DataFrame(Employeedata , index = ['a' , 'b' , 'c'])"
   ]
  },
  {
   "cell_type": "code",
   "execution_count": 108,
   "id": "a450d891",
   "metadata": {},
   "outputs": [
    {
     "data": {
      "text/html": [
       "<div>\n",
       "<style scoped>\n",
       "    .dataframe tbody tr th:only-of-type {\n",
       "        vertical-align: middle;\n",
       "    }\n",
       "\n",
       "    .dataframe tbody tr th {\n",
       "        vertical-align: top;\n",
       "    }\n",
       "\n",
       "    .dataframe thead th {\n",
       "        text-align: right;\n",
       "    }\n",
       "</style>\n",
       "<table border=\"1\" class=\"dataframe\">\n",
       "  <thead>\n",
       "    <tr style=\"text-align: right;\">\n",
       "      <th></th>\n",
       "      <th>id</th>\n",
       "      <th>name</th>\n",
       "      <th>age</th>\n",
       "      <th>city</th>\n",
       "    </tr>\n",
       "  </thead>\n",
       "  <tbody>\n",
       "    <tr>\n",
       "      <th>a</th>\n",
       "      <td>101</td>\n",
       "      <td>mira</td>\n",
       "      <td>32</td>\n",
       "      <td>Goa</td>\n",
       "    </tr>\n",
       "    <tr>\n",
       "      <th>b</th>\n",
       "      <td>102</td>\n",
       "      <td>isha</td>\n",
       "      <td>45</td>\n",
       "      <td>Agra</td>\n",
       "    </tr>\n",
       "    <tr>\n",
       "      <th>c</th>\n",
       "      <td>103</td>\n",
       "      <td>riya</td>\n",
       "      <td>48</td>\n",
       "      <td>Delhi</td>\n",
       "    </tr>\n",
       "  </tbody>\n",
       "</table>\n",
       "</div>"
      ],
      "text/plain": [
       "    id  name  age   city\n",
       "a  101  mira   32    Goa\n",
       "b  102  isha   45   Agra\n",
       "c  103  riya   48  Delhi"
      ]
     },
     "execution_count": 108,
     "metadata": {},
     "output_type": "execute_result"
    }
   ],
   "source": [
    "df"
   ]
  },
  {
   "cell_type": "code",
   "execution_count": 109,
   "id": "4d5a8f82",
   "metadata": {},
   "outputs": [],
   "source": [
    "# play with dataset\n",
    "df  = pd.read_csv(\"https://raw.githubusercontent.com/datasciencedojo/datasets/master/titanic.csv\")"
   ]
  },
  {
   "cell_type": "code",
   "execution_count": 110,
   "id": "f7d48c53",
   "metadata": {},
   "outputs": [
    {
     "data": {
      "text/plain": [
       "0    22.0\n",
       "1    38.0\n",
       "2    26.0\n",
       "3    35.0\n",
       "4    35.0\n",
       "5     NaN\n",
       "Name: Age, dtype: float64"
      ]
     },
     "execution_count": 110,
     "metadata": {},
     "output_type": "execute_result"
    }
   ],
   "source": [
    "a = df['Age'][0:6]\n",
    "a"
   ]
  },
  {
   "cell_type": "code",
   "execution_count": 111,
   "id": "a31b7a20",
   "metadata": {},
   "outputs": [
    {
     "data": {
      "text/plain": [
       "a    22.0\n",
       "b    38.0\n",
       "c    26.0\n",
       "d    35.0\n",
       "e    35.0\n",
       "f     NaN\n",
       "dtype: float64"
      ]
     },
     "execution_count": 111,
     "metadata": {},
     "output_type": "execute_result"
    }
   ],
   "source": [
    "# column ko series bna k usko khud ka index diya\n",
    "b = pd.Series(list(a) , index= ['a' , 'b' ,'c' ,'d' ,'e' ,'f'])\n",
    "b"
   ]
  },
  {
   "cell_type": "code",
   "execution_count": null,
   "id": "30b4ac68",
   "metadata": {},
   "outputs": [],
   "source": []
  },
  {
   "cell_type": "code",
   "execution_count": 112,
   "id": "1426b6db",
   "metadata": {},
   "outputs": [
    {
     "data": {
      "text/plain": [
       "26.0"
      ]
     },
     "execution_count": 112,
     "metadata": {},
     "output_type": "execute_result"
    }
   ],
   "source": [
    "b[\"c\"]   #    a[\"c\"] == a[2]"
   ]
  },
  {
   "cell_type": "code",
   "execution_count": null,
   "id": "ca106d9a",
   "metadata": {},
   "outputs": [],
   "source": []
  },
  {
   "cell_type": "code",
   "execution_count": 113,
   "id": "49a3d896",
   "metadata": {},
   "outputs": [],
   "source": [
    "s1 = pd.Series([11,22,33,44,55] , index =[1,2,3,4,5])"
   ]
  },
  {
   "cell_type": "code",
   "execution_count": 114,
   "id": "834c2003",
   "metadata": {},
   "outputs": [
    {
     "data": {
      "text/plain": [
       "1    11\n",
       "2    22\n",
       "3    33\n",
       "4    44\n",
       "5    55\n",
       "dtype: int64"
      ]
     },
     "execution_count": 114,
     "metadata": {},
     "output_type": "execute_result"
    }
   ],
   "source": [
    "s1"
   ]
  },
  {
   "cell_type": "code",
   "execution_count": 115,
   "id": "673db514",
   "metadata": {},
   "outputs": [],
   "source": [
    "s2 = pd.Series([111,222,333,444,555] , index =[5,4,3,2,1])"
   ]
  },
  {
   "cell_type": "code",
   "execution_count": 116,
   "id": "ea1547ea",
   "metadata": {},
   "outputs": [
    {
     "data": {
      "text/plain": [
       "5    111\n",
       "4    222\n",
       "3    333\n",
       "2    444\n",
       "1    555\n",
       "dtype: int64"
      ]
     },
     "execution_count": 116,
     "metadata": {},
     "output_type": "execute_result"
    }
   ],
   "source": [
    "s2"
   ]
  },
  {
   "cell_type": "code",
   "execution_count": 135,
   "id": "31f03fcf",
   "metadata": {},
   "outputs": [
    {
     "name": "stderr",
     "output_type": "stream",
     "text": [
      "C:\\Users\\win-11\\AppData\\Local\\Temp\\ipykernel_6040\\1498611220.py:2: FutureWarning: The series.append method is deprecated and will be removed from pandas in a future version. Use pandas.concat instead.\n",
      "  s1.append(s2)\n"
     ]
    },
    {
     "data": {
      "text/plain": [
       "1     11\n",
       "2     22\n",
       "3     33\n",
       "4     44\n",
       "5     55\n",
       "5    111\n",
       "4    222\n",
       "3    333\n",
       "2    444\n",
       "1    555\n",
       "dtype: int64"
      ]
     },
     "execution_count": 135,
     "metadata": {},
     "output_type": "execute_result"
    }
   ],
   "source": [
    "##append 1 series into another series\n",
    "s1.append(s2)"
   ]
  },
  {
   "cell_type": "code",
   "execution_count": 118,
   "id": "632b56e8",
   "metadata": {},
   "outputs": [],
   "source": [
    "## 2 series mathi same index in values no ( +  , -  , * ) operations krshe "
   ]
  },
  {
   "cell_type": "code",
   "execution_count": 119,
   "id": "7df7ba36",
   "metadata": {},
   "outputs": [
    {
     "data": {
      "text/plain": [
       "1    11\n",
       "2    22\n",
       "3    33\n",
       "4    44\n",
       "5    55\n",
       "dtype: int64"
      ]
     },
     "execution_count": 119,
     "metadata": {},
     "output_type": "execute_result"
    }
   ],
   "source": [
    "s1"
   ]
  },
  {
   "cell_type": "code",
   "execution_count": 120,
   "id": "59b5248b",
   "metadata": {},
   "outputs": [
    {
     "data": {
      "text/plain": [
       "5    111\n",
       "4    222\n",
       "3    333\n",
       "2    444\n",
       "1    555\n",
       "dtype: int64"
      ]
     },
     "execution_count": 120,
     "metadata": {},
     "output_type": "execute_result"
    }
   ],
   "source": [
    "s2"
   ]
  },
  {
   "cell_type": "code",
   "execution_count": 121,
   "id": "c62688da",
   "metadata": {},
   "outputs": [
    {
     "data": {
      "text/plain": [
       "1    566\n",
       "2    466\n",
       "3    366\n",
       "4    266\n",
       "5    166\n",
       "dtype: int64"
      ]
     },
     "execution_count": 121,
     "metadata": {},
     "output_type": "execute_result"
    }
   ],
   "source": [
    "s1 + s2"
   ]
  },
  {
   "cell_type": "code",
   "execution_count": 122,
   "id": "a8dbf04f",
   "metadata": {},
   "outputs": [
    {
     "data": {
      "text/plain": [
       "1     6105\n",
       "2     9768\n",
       "3    10989\n",
       "4     9768\n",
       "5     6105\n",
       "dtype: int64"
      ]
     },
     "execution_count": 122,
     "metadata": {},
     "output_type": "execute_result"
    }
   ],
   "source": [
    "s1 * s2"
   ]
  },
  {
   "cell_type": "code",
   "execution_count": 123,
   "id": "5d973866",
   "metadata": {},
   "outputs": [
    {
     "data": {
      "text/plain": [
       "1   -544\n",
       "2   -422\n",
       "3   -300\n",
       "4   -178\n",
       "5    -56\n",
       "dtype: int64"
      ]
     },
     "execution_count": 123,
     "metadata": {},
     "output_type": "execute_result"
    }
   ],
   "source": [
    "s1 - s2"
   ]
  },
  {
   "cell_type": "code",
   "execution_count": 132,
   "id": "1e80efcd",
   "metadata": {},
   "outputs": [
    {
     "data": {
      "text/plain": [
       "list"
      ]
     },
     "execution_count": 132,
     "metadata": {},
     "output_type": "execute_result"
    }
   ],
   "source": [
    "data = df['Name'][0:5]"
   ]
  },
  {
   "cell_type": "code",
   "execution_count": 134,
   "id": "158d4a92",
   "metadata": {},
   "outputs": [
    {
     "data": {
      "text/html": [
       "<div>\n",
       "<style scoped>\n",
       "    .dataframe tbody tr th:only-of-type {\n",
       "        vertical-align: middle;\n",
       "    }\n",
       "\n",
       "    .dataframe tbody tr th {\n",
       "        vertical-align: top;\n",
       "    }\n",
       "\n",
       "    .dataframe thead th {\n",
       "        text-align: right;\n",
       "    }\n",
       "</style>\n",
       "<table border=\"1\" class=\"dataframe\">\n",
       "  <thead>\n",
       "    <tr style=\"text-align: right;\">\n",
       "      <th></th>\n",
       "      <th>0</th>\n",
       "    </tr>\n",
       "  </thead>\n",
       "  <tbody>\n",
       "    <tr>\n",
       "      <th>a</th>\n",
       "      <td>Braund, Mr. Owen Harris</td>\n",
       "    </tr>\n",
       "    <tr>\n",
       "      <th>b</th>\n",
       "      <td>Cumings, Mrs. John Bradley (Florence Briggs Th...</td>\n",
       "    </tr>\n",
       "    <tr>\n",
       "      <th>c</th>\n",
       "      <td>Heikkinen, Miss. Laina</td>\n",
       "    </tr>\n",
       "    <tr>\n",
       "      <th>d</th>\n",
       "      <td>Futrelle, Mrs. Jacques Heath (Lily May Peel)</td>\n",
       "    </tr>\n",
       "    <tr>\n",
       "      <th>e</th>\n",
       "      <td>Allen, Mr. William Henry</td>\n",
       "    </tr>\n",
       "  </tbody>\n",
       "</table>\n",
       "</div>"
      ],
      "text/plain": [
       "                                                   0\n",
       "a                            Braund, Mr. Owen Harris\n",
       "b  Cumings, Mrs. John Bradley (Florence Briggs Th...\n",
       "c                             Heikkinen, Miss. Laina\n",
       "d       Futrelle, Mrs. Jacques Heath (Lily May Peel)\n",
       "e                           Allen, Mr. William Henry"
      ]
     },
     "execution_count": 134,
     "metadata": {},
     "output_type": "execute_result"
    }
   ],
   "source": [
    "pd.DataFrame(list(data),index = ['a','b','c','d','e'])"
   ]
  },
  {
   "cell_type": "code",
   "execution_count": null,
   "id": "dd2cf7aa",
   "metadata": {},
   "outputs": [],
   "source": []
  },
  {
   "cell_type": "code",
   "execution_count": null,
   "id": "f4fca463",
   "metadata": {},
   "outputs": [],
   "source": []
  },
  {
   "cell_type": "code",
   "execution_count": null,
   "id": "fe64fd13",
   "metadata": {},
   "outputs": [],
   "source": []
  },
  {
   "cell_type": "code",
   "execution_count": null,
   "id": "2f375fc8",
   "metadata": {},
   "outputs": [],
   "source": []
  },
  {
   "cell_type": "code",
   "execution_count": null,
   "id": "c3b4e6d2",
   "metadata": {},
   "outputs": [],
   "source": []
  },
  {
   "cell_type": "code",
   "execution_count": null,
   "id": "47b60c45",
   "metadata": {},
   "outputs": [],
   "source": []
  },
  {
   "cell_type": "code",
   "execution_count": null,
   "id": "e3cb2f68",
   "metadata": {},
   "outputs": [],
   "source": []
  },
  {
   "cell_type": "code",
   "execution_count": null,
   "id": "c02e2ae3",
   "metadata": {},
   "outputs": [],
   "source": []
  },
  {
   "cell_type": "code",
   "execution_count": null,
   "id": "5a33ddc7",
   "metadata": {},
   "outputs": [],
   "source": []
  },
  {
   "cell_type": "code",
   "execution_count": null,
   "id": "85cff7d0",
   "metadata": {},
   "outputs": [],
   "source": []
  },
  {
   "cell_type": "code",
   "execution_count": null,
   "id": "cc095e9b",
   "metadata": {},
   "outputs": [],
   "source": []
  },
  {
   "cell_type": "code",
   "execution_count": null,
   "id": "cc5d55d1",
   "metadata": {},
   "outputs": [],
   "source": []
  },
  {
   "cell_type": "code",
   "execution_count": null,
   "id": "01e103b6",
   "metadata": {},
   "outputs": [],
   "source": []
  }
 ],
 "metadata": {
  "kernelspec": {
   "display_name": "Python 3 (ipykernel)",
   "language": "python",
   "name": "python3"
  },
  "language_info": {
   "codemirror_mode": {
    "name": "ipython",
    "version": 3
   },
   "file_extension": ".py",
   "mimetype": "text/x-python",
   "name": "python",
   "nbconvert_exporter": "python",
   "pygments_lexer": "ipython3",
   "version": "3.10.9"
  }
 },
 "nbformat": 4,
 "nbformat_minor": 5
}
